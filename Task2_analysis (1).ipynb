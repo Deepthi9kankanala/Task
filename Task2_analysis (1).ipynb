{
  "nbformat": 4,
  "nbformat_minor": 0,
  "metadata": {
    "colab": {
      "provenance": []
    },
    "kernelspec": {
      "name": "python3",
      "display_name": "Python 3"
    },
    "language_info": {
      "name": "python"
    }
  },
  "cells": [
    {
      "cell_type": "code",
      "execution_count": null,
      "metadata": {
        "id": "C2r1oi9YhDQq"
      },
      "outputs": [],
      "source": []
    },
    {
      "cell_type": "markdown",
      "source": [],
      "metadata": {
        "id": "7cFCFt4ehGrY"
      }
    },
    {
      "cell_type": "code",
      "source": [
        "import pandas as pd\n"
      ],
      "metadata": {
        "id": "VE2va44nhHcm"
      },
      "execution_count": null,
      "outputs": []
    },
    {
      "cell_type": "code",
      "source": [
        "df=pd.read_csv('netflix_titles_nov_2019.csv')"
      ],
      "metadata": {
        "id": "X8hL7gH7hIHc"
      },
      "execution_count": null,
      "outputs": []
    },
    {
      "cell_type": "code",
      "source": [],
      "metadata": {
        "id": "Ut3rspbHhXXq"
      },
      "execution_count": null,
      "outputs": []
    },
    {
      "cell_type": "markdown",
      "source": [
        "#  Country wise oldest and latest film released"
      ],
      "metadata": {
        "id": "MA2Z3uIohgXo"
      }
    },
    {
      "cell_type": "code",
      "source": [
        "oldest_latest = df.groupby('country')['release_year'].agg(['min', 'max']).reset_index()\n",
        "oldest_latest\n"
      ],
      "metadata": {
        "colab": {
          "base_uri": "https://localhost:8080/",
          "height": 424
        },
        "id": "EdJOr1kRhjY0",
        "outputId": "28c859e8-ea28-4cf0-8279-984f846f3b77"
      },
      "execution_count": null,
      "outputs": [
        {
          "output_type": "execute_result",
          "data": {
            "text/plain": [
              "                                               country   min   max\n",
              "0                                            Argentina  1985  2019\n",
              "1    Argentina, Brazil, France, Poland, Germany, De...  2017  2017\n",
              "2                                     Argentina, Chile  2017  2017\n",
              "3                               Argentina, Chile, Peru  2015  2015\n",
              "4                                    Argentina, France  2017  2017\n",
              "..                                                 ...   ...   ...\n",
              "522                             Uruguay, Spain, Mexico  2018  2018\n",
              "523                                          Venezuela  2017  2017\n",
              "524                                Venezuela, Colombia  2007  2007\n",
              "525                                            Vietnam  2014  2019\n",
              "526                                       West Germany  1977  1977\n",
              "\n",
              "[527 rows x 3 columns]"
            ],
            "text/html": [
              "\n",
              "  <div id=\"df-64f06f25-45b4-4247-ba20-754b436d70c2\" class=\"colab-df-container\">\n",
              "    <div>\n",
              "<style scoped>\n",
              "    .dataframe tbody tr th:only-of-type {\n",
              "        vertical-align: middle;\n",
              "    }\n",
              "\n",
              "    .dataframe tbody tr th {\n",
              "        vertical-align: top;\n",
              "    }\n",
              "\n",
              "    .dataframe thead th {\n",
              "        text-align: right;\n",
              "    }\n",
              "</style>\n",
              "<table border=\"1\" class=\"dataframe\">\n",
              "  <thead>\n",
              "    <tr style=\"text-align: right;\">\n",
              "      <th></th>\n",
              "      <th>country</th>\n",
              "      <th>min</th>\n",
              "      <th>max</th>\n",
              "    </tr>\n",
              "  </thead>\n",
              "  <tbody>\n",
              "    <tr>\n",
              "      <th>0</th>\n",
              "      <td>Argentina</td>\n",
              "      <td>1985</td>\n",
              "      <td>2019</td>\n",
              "    </tr>\n",
              "    <tr>\n",
              "      <th>1</th>\n",
              "      <td>Argentina, Brazil, France, Poland, Germany, De...</td>\n",
              "      <td>2017</td>\n",
              "      <td>2017</td>\n",
              "    </tr>\n",
              "    <tr>\n",
              "      <th>2</th>\n",
              "      <td>Argentina, Chile</td>\n",
              "      <td>2017</td>\n",
              "      <td>2017</td>\n",
              "    </tr>\n",
              "    <tr>\n",
              "      <th>3</th>\n",
              "      <td>Argentina, Chile, Peru</td>\n",
              "      <td>2015</td>\n",
              "      <td>2015</td>\n",
              "    </tr>\n",
              "    <tr>\n",
              "      <th>4</th>\n",
              "      <td>Argentina, France</td>\n",
              "      <td>2017</td>\n",
              "      <td>2017</td>\n",
              "    </tr>\n",
              "    <tr>\n",
              "      <th>...</th>\n",
              "      <td>...</td>\n",
              "      <td>...</td>\n",
              "      <td>...</td>\n",
              "    </tr>\n",
              "    <tr>\n",
              "      <th>522</th>\n",
              "      <td>Uruguay, Spain, Mexico</td>\n",
              "      <td>2018</td>\n",
              "      <td>2018</td>\n",
              "    </tr>\n",
              "    <tr>\n",
              "      <th>523</th>\n",
              "      <td>Venezuela</td>\n",
              "      <td>2017</td>\n",
              "      <td>2017</td>\n",
              "    </tr>\n",
              "    <tr>\n",
              "      <th>524</th>\n",
              "      <td>Venezuela, Colombia</td>\n",
              "      <td>2007</td>\n",
              "      <td>2007</td>\n",
              "    </tr>\n",
              "    <tr>\n",
              "      <th>525</th>\n",
              "      <td>Vietnam</td>\n",
              "      <td>2014</td>\n",
              "      <td>2019</td>\n",
              "    </tr>\n",
              "    <tr>\n",
              "      <th>526</th>\n",
              "      <td>West Germany</td>\n",
              "      <td>1977</td>\n",
              "      <td>1977</td>\n",
              "    </tr>\n",
              "  </tbody>\n",
              "</table>\n",
              "<p>527 rows × 3 columns</p>\n",
              "</div>\n",
              "    <div class=\"colab-df-buttons\">\n",
              "\n",
              "  <div class=\"colab-df-container\">\n",
              "    <button class=\"colab-df-convert\" onclick=\"convertToInteractive('df-64f06f25-45b4-4247-ba20-754b436d70c2')\"\n",
              "            title=\"Convert this dataframe to an interactive table.\"\n",
              "            style=\"display:none;\">\n",
              "\n",
              "  <svg xmlns=\"http://www.w3.org/2000/svg\" height=\"24px\" viewBox=\"0 -960 960 960\">\n",
              "    <path d=\"M120-120v-720h720v720H120Zm60-500h600v-160H180v160Zm220 220h160v-160H400v160Zm0 220h160v-160H400v160ZM180-400h160v-160H180v160Zm440 0h160v-160H620v160ZM180-180h160v-160H180v160Zm440 0h160v-160H620v160Z\"/>\n",
              "  </svg>\n",
              "    </button>\n",
              "\n",
              "  <style>\n",
              "    .colab-df-container {\n",
              "      display:flex;\n",
              "      gap: 12px;\n",
              "    }\n",
              "\n",
              "    .colab-df-convert {\n",
              "      background-color: #E8F0FE;\n",
              "      border: none;\n",
              "      border-radius: 50%;\n",
              "      cursor: pointer;\n",
              "      display: none;\n",
              "      fill: #1967D2;\n",
              "      height: 32px;\n",
              "      padding: 0 0 0 0;\n",
              "      width: 32px;\n",
              "    }\n",
              "\n",
              "    .colab-df-convert:hover {\n",
              "      background-color: #E2EBFA;\n",
              "      box-shadow: 0px 1px 2px rgba(60, 64, 67, 0.3), 0px 1px 3px 1px rgba(60, 64, 67, 0.15);\n",
              "      fill: #174EA6;\n",
              "    }\n",
              "\n",
              "    .colab-df-buttons div {\n",
              "      margin-bottom: 4px;\n",
              "    }\n",
              "\n",
              "    [theme=dark] .colab-df-convert {\n",
              "      background-color: #3B4455;\n",
              "      fill: #D2E3FC;\n",
              "    }\n",
              "\n",
              "    [theme=dark] .colab-df-convert:hover {\n",
              "      background-color: #434B5C;\n",
              "      box-shadow: 0px 1px 3px 1px rgba(0, 0, 0, 0.15);\n",
              "      filter: drop-shadow(0px 1px 2px rgba(0, 0, 0, 0.3));\n",
              "      fill: #FFFFFF;\n",
              "    }\n",
              "  </style>\n",
              "\n",
              "    <script>\n",
              "      const buttonEl =\n",
              "        document.querySelector('#df-64f06f25-45b4-4247-ba20-754b436d70c2 button.colab-df-convert');\n",
              "      buttonEl.style.display =\n",
              "        google.colab.kernel.accessAllowed ? 'block' : 'none';\n",
              "\n",
              "      async function convertToInteractive(key) {\n",
              "        const element = document.querySelector('#df-64f06f25-45b4-4247-ba20-754b436d70c2');\n",
              "        const dataTable =\n",
              "          await google.colab.kernel.invokeFunction('convertToInteractive',\n",
              "                                                    [key], {});\n",
              "        if (!dataTable) return;\n",
              "\n",
              "        const docLinkHtml = 'Like what you see? Visit the ' +\n",
              "          '<a target=\"_blank\" href=https://colab.research.google.com/notebooks/data_table.ipynb>data table notebook</a>'\n",
              "          + ' to learn more about interactive tables.';\n",
              "        element.innerHTML = '';\n",
              "        dataTable['output_type'] = 'display_data';\n",
              "        await google.colab.output.renderOutput(dataTable, element);\n",
              "        const docLink = document.createElement('div');\n",
              "        docLink.innerHTML = docLinkHtml;\n",
              "        element.appendChild(docLink);\n",
              "      }\n",
              "    </script>\n",
              "  </div>\n",
              "\n",
              "\n",
              "<div id=\"df-1921a5e8-7456-4d2d-887e-92af58520bc5\">\n",
              "  <button class=\"colab-df-quickchart\" onclick=\"quickchart('df-1921a5e8-7456-4d2d-887e-92af58520bc5')\"\n",
              "            title=\"Suggest charts\"\n",
              "            style=\"display:none;\">\n",
              "\n",
              "<svg xmlns=\"http://www.w3.org/2000/svg\" height=\"24px\"viewBox=\"0 0 24 24\"\n",
              "     width=\"24px\">\n",
              "    <g>\n",
              "        <path d=\"M19 3H5c-1.1 0-2 .9-2 2v14c0 1.1.9 2 2 2h14c1.1 0 2-.9 2-2V5c0-1.1-.9-2-2-2zM9 17H7v-7h2v7zm4 0h-2V7h2v10zm4 0h-2v-4h2v4z\"/>\n",
              "    </g>\n",
              "</svg>\n",
              "  </button>\n",
              "\n",
              "<style>\n",
              "  .colab-df-quickchart {\n",
              "      --bg-color: #E8F0FE;\n",
              "      --fill-color: #1967D2;\n",
              "      --hover-bg-color: #E2EBFA;\n",
              "      --hover-fill-color: #174EA6;\n",
              "      --disabled-fill-color: #AAA;\n",
              "      --disabled-bg-color: #DDD;\n",
              "  }\n",
              "\n",
              "  [theme=dark] .colab-df-quickchart {\n",
              "      --bg-color: #3B4455;\n",
              "      --fill-color: #D2E3FC;\n",
              "      --hover-bg-color: #434B5C;\n",
              "      --hover-fill-color: #FFFFFF;\n",
              "      --disabled-bg-color: #3B4455;\n",
              "      --disabled-fill-color: #666;\n",
              "  }\n",
              "\n",
              "  .colab-df-quickchart {\n",
              "    background-color: var(--bg-color);\n",
              "    border: none;\n",
              "    border-radius: 50%;\n",
              "    cursor: pointer;\n",
              "    display: none;\n",
              "    fill: var(--fill-color);\n",
              "    height: 32px;\n",
              "    padding: 0;\n",
              "    width: 32px;\n",
              "  }\n",
              "\n",
              "  .colab-df-quickchart:hover {\n",
              "    background-color: var(--hover-bg-color);\n",
              "    box-shadow: 0 1px 2px rgba(60, 64, 67, 0.3), 0 1px 3px 1px rgba(60, 64, 67, 0.15);\n",
              "    fill: var(--button-hover-fill-color);\n",
              "  }\n",
              "\n",
              "  .colab-df-quickchart-complete:disabled,\n",
              "  .colab-df-quickchart-complete:disabled:hover {\n",
              "    background-color: var(--disabled-bg-color);\n",
              "    fill: var(--disabled-fill-color);\n",
              "    box-shadow: none;\n",
              "  }\n",
              "\n",
              "  .colab-df-spinner {\n",
              "    border: 2px solid var(--fill-color);\n",
              "    border-color: transparent;\n",
              "    border-bottom-color: var(--fill-color);\n",
              "    animation:\n",
              "      spin 1s steps(1) infinite;\n",
              "  }\n",
              "\n",
              "  @keyframes spin {\n",
              "    0% {\n",
              "      border-color: transparent;\n",
              "      border-bottom-color: var(--fill-color);\n",
              "      border-left-color: var(--fill-color);\n",
              "    }\n",
              "    20% {\n",
              "      border-color: transparent;\n",
              "      border-left-color: var(--fill-color);\n",
              "      border-top-color: var(--fill-color);\n",
              "    }\n",
              "    30% {\n",
              "      border-color: transparent;\n",
              "      border-left-color: var(--fill-color);\n",
              "      border-top-color: var(--fill-color);\n",
              "      border-right-color: var(--fill-color);\n",
              "    }\n",
              "    40% {\n",
              "      border-color: transparent;\n",
              "      border-right-color: var(--fill-color);\n",
              "      border-top-color: var(--fill-color);\n",
              "    }\n",
              "    60% {\n",
              "      border-color: transparent;\n",
              "      border-right-color: var(--fill-color);\n",
              "    }\n",
              "    80% {\n",
              "      border-color: transparent;\n",
              "      border-right-color: var(--fill-color);\n",
              "      border-bottom-color: var(--fill-color);\n",
              "    }\n",
              "    90% {\n",
              "      border-color: transparent;\n",
              "      border-bottom-color: var(--fill-color);\n",
              "    }\n",
              "  }\n",
              "</style>\n",
              "\n",
              "  <script>\n",
              "    async function quickchart(key) {\n",
              "      const quickchartButtonEl =\n",
              "        document.querySelector('#' + key + ' button');\n",
              "      quickchartButtonEl.disabled = true;  // To prevent multiple clicks.\n",
              "      quickchartButtonEl.classList.add('colab-df-spinner');\n",
              "      try {\n",
              "        const charts = await google.colab.kernel.invokeFunction(\n",
              "            'suggestCharts', [key], {});\n",
              "      } catch (error) {\n",
              "        console.error('Error during call to suggestCharts:', error);\n",
              "      }\n",
              "      quickchartButtonEl.classList.remove('colab-df-spinner');\n",
              "      quickchartButtonEl.classList.add('colab-df-quickchart-complete');\n",
              "    }\n",
              "    (() => {\n",
              "      let quickchartButtonEl =\n",
              "        document.querySelector('#df-1921a5e8-7456-4d2d-887e-92af58520bc5 button');\n",
              "      quickchartButtonEl.style.display =\n",
              "        google.colab.kernel.accessAllowed ? 'block' : 'none';\n",
              "    })();\n",
              "  </script>\n",
              "</div>\n",
              "    </div>\n",
              "  </div>\n"
            ],
            "application/vnd.google.colaboratory.intrinsic+json": {
              "type": "dataframe",
              "variable_name": "oldest_latest",
              "summary": "{\n  \"name\": \"oldest_latest\",\n  \"rows\": 527,\n  \"fields\": [\n    {\n      \"column\": \"country\",\n      \"properties\": {\n        \"dtype\": \"string\",\n        \"num_unique_values\": 527,\n        \"samples\": [\n          \"South Africa, United States, Germany\",\n          \"United Kingdom, India, United States\",\n          \"Argentina, Italy\"\n        ],\n        \"semantic_type\": \"\",\n        \"description\": \"\"\n      }\n    },\n    {\n      \"column\": \"min\",\n      \"properties\": {\n        \"dtype\": \"number\",\n        \"std\": 10,\n        \"min\": 1942,\n        \"max\": 2020,\n        \"num_unique_values\": 47,\n        \"samples\": [\n          1986,\n          1992,\n          1973\n        ],\n        \"semantic_type\": \"\",\n        \"description\": \"\"\n      }\n    },\n    {\n      \"column\": \"max\",\n      \"properties\": {\n        \"dtype\": \"number\",\n        \"std\": 6,\n        \"min\": 1960,\n        \"max\": 2020,\n        \"num_unique_values\": 32,\n        \"samples\": [\n          1965,\n          2001,\n          1980\n        ],\n        \"semantic_type\": \"\",\n        \"description\": \"\"\n      }\n    }\n  ]\n}"
            }
          },
          "metadata": {},
          "execution_count": 6
        }
      ]
    },
    {
      "cell_type": "code",
      "source": [
        "\n",
        "oldest_latest_films = df.groupby('country').apply(lambda x: pd.Series({\n",
        "    'Oldest Film': x.loc[x['release_year'].idxmin(), 'title'],\n",
        "    'Latest Film': x.loc[x['release_year'].idxmax(), 'title']\n",
        "})).reset_index()  # grouping by country and applying a pd.series constructor to create a new serie sobject it has 2 elements oldest film and latest film and in this x is the current group and idxmin(0 retrives the index of row og min val in relese year and  x.loc retrives tiltle of that row .rrset_idnex() converting grp label into regular clm )\n",
        "\n",
        "\n",
        "print(oldest_latest_films)\n",
        "\n",
        "\n",
        "\n",
        "#\n"
      ],
      "metadata": {
        "colab": {
          "base_uri": "https://localhost:8080/"
        },
        "id": "OeQlhAiJiACy",
        "outputId": "62d3e68e-f861-40cb-88d0-7d96e3ff56bd"
      },
      "execution_count": null,
      "outputs": [
        {
          "output_type": "stream",
          "name": "stdout",
          "text": [
            "                                               country  \\\n",
            "0                                            Argentina   \n",
            "1    Argentina, Brazil, France, Poland, Germany, De...   \n",
            "2                                     Argentina, Chile   \n",
            "3                               Argentina, Chile, Peru   \n",
            "4                                    Argentina, France   \n",
            "..                                                 ...   \n",
            "522                             Uruguay, Spain, Mexico   \n",
            "523                                          Venezuela   \n",
            "524                                Venezuela, Colombia   \n",
            "525                                            Vietnam   \n",
            "526                                       West Germany   \n",
            "\n",
            "                        Oldest Film                     Latest Film  \n",
            "0              Esperando La Carroza               No Time for Shame  \n",
            "1                  A Sort of Family                A Sort of Family  \n",
            "2                  The Desert Bride                The Desert Bride  \n",
            "3                            Lusers                          Lusers  \n",
            "4                         Invisible                       Invisible  \n",
            "..                              ...                             ...  \n",
            "522                        Belmonte                        Belmonte  \n",
            "523                          El Che                          El Che  \n",
            "524  Pablo Escobar: Angel or Demon?  Pablo Escobar: Angel or Demon?  \n",
            "525                Conjuring Spirit                           Furie  \n",
            "526               Hitler - A Career               Hitler - A Career  \n",
            "\n",
            "[527 rows x 3 columns]\n"
          ]
        }
      ]
    },
    {
      "cell_type": "markdown",
      "source": [
        "# Stacked Bar chart of number of movies vs number of TV shows released per *year*"
      ],
      "metadata": {
        "id": "ShqZjNjIm6L-"
      }
    },
    {
      "cell_type": "code",
      "source": [
        "\n",
        "import matplotlib.pyplot as plt\n",
        "\n",
        "\n",
        "movies_tvshows_per_year = df.groupby(['release_year', 'type']).size().unstack().fillna(0) #type clm has movie or tv , size() count ocurences and for reshpae using unstack() ,fillna(0) filling mising val with 0 and later the output results i the line chart we ar e using kind parameter to get bar chart and then stacked parameter to stack tye bar for each year\n",
        "\n",
        "\n",
        "movies_tvshows_per_year.plot(kind='bar', stacked=True)\n",
        "plt.title('Number of Movies vs TV Shows Released per Year')\n",
        "plt.xlabel('Release Year')\n",
        "plt.ylabel('Count')\n",
        "plt.legend(title='Type')\n",
        "plt.show()\n"
      ],
      "metadata": {
        "colab": {
          "base_uri": "https://localhost:8080/",
          "height": 493
        },
        "id": "gb7VJ3y-isqW",
        "outputId": "5a024221-6107-4094-c332-a826016f2e6e"
      },
      "execution_count": null,
      "outputs": [
        {
          "output_type": "display_data",
          "data": {
            "text/plain": [
              "<Figure size 640x480 with 1 Axes>"
            ],
            "image/png": "[encoded data removed]"
          },
          "metadata": {}
        }
      ]
    },
    {
      "cell_type": "code",
      "source": [],
      "metadata": {
        "id": "5qWXyTWQkj6D"
      },
      "execution_count": null,
      "outputs": []
    },
    {
      "cell_type": "markdown",
      "source": [
        "# 3) Who directed the most number of films and country associated with director"
      ],
      "metadata": {
        "id": "JO1AS9KYshhD"
      }
    },
    {
      "cell_type": "code",
      "source": [
        "\n",
        "director_counts = df['director'].value_counts() # Count the occurrences of each director\n",
        "\n",
        "most_directed_director = director_counts.idxmax()  # the director with the highest count\n",
        "\n",
        "country_associated = df[df['director'] == most_directed_director]['country'].iloc[0] # the country associated with the most directed director\n",
        "\n",
        "\n",
        "print(f\"The director who directed the most films is: {most_directed_director}\")\n",
        "print(f\"The country associated with this director is: {country_associated}\")\n"
      ],
      "metadata": {
        "colab": {
          "base_uri": "https://localhost:8080/"
        },
        "id": "JZqQ88EAsrXL",
        "outputId": "6f319d46-13f2-4c69-e3f7-846eff3990be"
      },
      "execution_count": null,
      "outputs": [
        {
          "output_type": "stream",
          "name": "stdout",
          "text": [
            "The director who directed the most films is: Raúl Campos, Jan Suter\n",
            "The country associated with this director is: Mexico\n"
          ]
        }
      ]
    },
    {
      "cell_type": "code",
      "source": [],
      "metadata": {
        "id": "Lp1SWwi7s-SZ"
      },
      "execution_count": null,
      "outputs": []
    },
    {
      "cell_type": "markdown",
      "source": [
        "# 4) Which actor and actress casted in most number of films"
      ],
      "metadata": {
        "id": "BGHJ85i2s-8w"
      }
    },
    {
      "cell_type": "code",
      "source": [
        "\n",
        "cast_list = df['cast'].str.split(', ').explode() # exploding into separate rows\n",
        "\n",
        "cast_counts = cast_list.value_counts()\n",
        "\n",
        "most_appeared_actor = cast_counts.idxmax()\n",
        "\n",
        "print(f\"The actor who appeared in the most number of films is: {most_appeared_actor}\")\n",
        "\n",
        "#  the actress with the highest count\n",
        "most_appeared_actress = cast_counts[cast_counts.index.str.contains('^[A-Z][a-z]*')].idxmax()\n",
        "\n",
        "print(f\"The actress who appeared in the most number of films is: {most_appeared_actress}\")\n"
      ],
      "metadata": {
        "colab": {
          "base_uri": "https://localhost:8080/"
        },
        "id": "chN5ZeMItFbx",
        "outputId": "012d169a-0142-41e3-f088-e9e6a2bc4157"
      },
      "execution_count": null,
      "outputs": [
        {
          "output_type": "stream",
          "name": "stdout",
          "text": [
            "The actor who appeared in the most number of films is: Anupam Kher\n",
            "The actress who appeared in the most number of films is: Anupam Kher\n"
          ]
        }
      ]
    },
    {
      "cell_type": "markdown",
      "source": [
        "# 5) How many Thriller movies got released in 2018?"
      ],
      "metadata": {
        "id": "W2jH9X3Wt0Vk"
      }
    },
    {
      "cell_type": "code",
      "source": [
        "\n",
        "thriller_2018_count = df[(df['listed_in'].str.contains('Thriller')) & (df['release_year'] == 2018)].shape[0] # number of rows  correspodns thriller\n",
        "\n",
        "print(f\"The number of thriller movies released in 2018 is: {thriller_2018_count}\")\n",
        "\n"
      ],
      "metadata": {
        "colab": {
          "base_uri": "https://localhost:8080/"
        },
        "id": "8whXOwBBtXje",
        "outputId": "c94bbe62-c038-45e2-b516-2270b1672c2a"
      },
      "execution_count": null,
      "outputs": [
        {
          "output_type": "stream",
          "name": "stdout",
          "text": [
            "The number of thriller movies released in 2018 is: 74\n"
          ]
        }
      ]
    },
    {
      "cell_type": "code",
      "source": [],
      "metadata": {
        "id": "bNh7GN5HtzEa"
      },
      "execution_count": null,
      "outputs": []
    },
    {
      "cell_type": "markdown",
      "source": [
        "# 6) Which genre of movies was released highest in each year?\n"
      ],
      "metadata": {
        "id": "0Sl0TYyqt4Je"
      }
    },
    {
      "cell_type": "code",
      "source": [
        "\n",
        "genres_list = df['listed_in'].str.split(', ').explode()\n",
        "\n",
        "highest_genre_per_year = genres_list.groupby(df['release_year']).agg(lambda x: x.mode()[0])  # mode most common genre\n",
        "\n",
        "print(highest_genre_per_year)\n"
      ],
      "metadata": {
        "colab": {
          "base_uri": "https://localhost:8080/"
        },
        "id": "2bsKeMrrt9rZ",
        "outputId": "0ec1b6ac-8131-4685-ee69-6d3ab403286b"
      },
      "execution_count": null,
      "outputs": [
        {
          "output_type": "stream",
          "name": "stdout",
          "text": [
            "release_year\n",
            "1925                  TV Shows\n",
            "1942            Classic Movies\n",
            "1943             Documentaries\n",
            "1944            Classic Movies\n",
            "1945            Classic Movies\n",
            "                 ...          \n",
            "2016      International Movies\n",
            "2017      International Movies\n",
            "2018      International Movies\n",
            "2019    International TV Shows\n",
            "2020                Docuseries\n",
            "Name: listed_in, Length: 71, dtype: object\n"
          ]
        }
      ]
    },
    {
      "cell_type": "markdown",
      "source": [
        "# 7) How many Spanish based Romantic TV Shows where released in 2017?"
      ],
      "metadata": {
        "id": "mHXkoQNMuW7i"
      }
    },
    {
      "cell_type": "code",
      "source": [
        "spanish_romantic_2017_count = df[(df['listed_in'].str.contains('Spanish')) &\n",
        "                                  (df['listed_in'].str.contains('Romantic')) &\n",
        "                                  (df['release_year'] == 2017)  &\n",
        "                                  (df['type'] == 'TV Show')].shape[0]\n",
        "\n",
        "print(\"The number of Spanish-based romantic TV shows released in 2017 is: {}\".format(spanish_romantic_2017_count))\n",
        "\n"
      ],
      "metadata": {
        "colab": {
          "base_uri": "https://localhost:8080/"
        },
        "id": "kq4aAuCBuMBt",
        "outputId": "4d2648d6-bee4-4abb-cf16-7e6e0ad2762d"
      },
      "execution_count": null,
      "outputs": [
        {
          "output_type": "stream",
          "name": "stdout",
          "text": [
            "The number of Spanish-based romantic TV shows released in 2017 is: 1\n"
          ]
        }
      ]
    },
    {
      "cell_type": "code",
      "source": [],
      "metadata": {
        "id": "O4LnOTcGufAF"
      },
      "execution_count": null,
      "outputs": []
    },
    {
      "cell_type": "markdown",
      "source": [
        "# 8) Find the reality shows which has more than 5 seasons?"
      ],
      "metadata": {
        "id": "ItEuAUEku0qG"
      }
    },
    {
      "cell_type": "code",
      "source": [
        "# \\d+ regular expression matches  one or more digits  converting it to numeric\n",
        "df['season_count'] = df['duration'].str.extract('(\\d+)').astype(float)\n",
        "\n",
        "reality_shows_5_seasons = df[(df['type'] == 'TV Show') & (df['listed_in'].str.contains('Reality')) & (df['season_count'] > 5)]\n",
        "\n",
        "print(\"Reality shows with more than 5 seasons:\")\n",
        "print(reality_shows_5_seasons[['title', 'season_count']])\n"
      ],
      "metadata": {
        "colab": {
          "base_uri": "https://localhost:8080/"
        },
        "id": "6OEd91ccu4do",
        "outputId": "26c0e091-5219-4a3c-f779-63685e579a79"
      },
      "execution_count": null,
      "outputs": [
        {
          "output_type": "stream",
          "name": "stdout",
          "text": [
            "Reality shows with more than 5 seasons:\n",
            "                                 title  season_count\n",
            "689      The Great British Baking Show           7.0\n",
            "1689  Terrace House: Opening New Doors           6.0\n",
            "1816                      Chef's Table           6.0\n",
            "4201                West Coast Customs           6.0\n"
          ]
        }
      ]
    },
    {
      "cell_type": "code",
      "source": [],
      "metadata": {
        "id": "56yCF510vbqT"
      },
      "execution_count": null,
      "outputs": []
    },
    {
      "cell_type": "markdown",
      "source": [
        "# 9) Movies with more than 120 minutes and released in year 2016,2017 and 2018."
      ],
      "metadata": {
        "id": "LDlcsXScvnXg"
      }
    },
    {
      "cell_type": "code",
      "source": [
        "movies_120_min_2016_2018 = df[(df['type'] == 'Movie') &\n",
        "                               (df['duration'].str.extract('(\\d+)').astype(int) > 120) &\n",
        "                               (df['release_year'].isin([2016, 2017, 2018]))]\n",
        "print(\"Movies with more than 120 minutes and released in 2016, 2017, or 2018:\")\n",
        "print(movies_120_min_2016_2018[['title', 'duration', 'release_year']])\n"
      ],
      "metadata": {
        "colab": {
          "base_uri": "https://localhost:8080/"
        },
        "id": "fzQuVhjgvo4f",
        "outputId": "c2a879ad-973d-4fe7-cb2a-0315faad33c2"
      },
      "execution_count": null,
      "outputs": [
        {
          "output_type": "stream",
          "name": "stdout",
          "text": [
            "Movies with more than 120 minutes and released in 2016, 2017, or 2018:\n",
            "     title duration  release_year\n",
            "0      NaN      NaN           NaN\n",
            "1      NaN      NaN           NaN\n",
            "2      NaN      NaN           NaN\n",
            "3      NaN      NaN           NaN\n",
            "4      NaN      NaN           NaN\n",
            "...    ...      ...           ...\n",
            "5832   NaN      NaN           NaN\n",
            "5833   NaN      NaN           NaN\n",
            "5834   NaN      NaN           NaN\n",
            "5835   NaN      NaN           NaN\n",
            "5836   NaN      NaN           NaN\n",
            "\n",
            "[5837 rows x 3 columns]\n"
          ]
        }
      ]
    },
    {
      "cell_type": "code",
      "source": [],
      "metadata": {
        "id": "auEyUcPEvv8R"
      },
      "execution_count": null,
      "outputs": []
    },
    {
      "cell_type": "markdown",
      "source": [],
      "metadata": {
        "id": "3fl9RbxTvxE8"
      }
    },
    {
      "cell_type": "markdown",
      "source": [
        "# 10) Which month has the highest number of films released.Plot the chart?"
      ],
      "metadata": {
        "id": "ptyBR841v4wl"
      }
    },
    {
      "cell_type": "code",
      "source": [
        "import pandas as pd\n",
        "import matplotlib.pyplot as plt\n",
        "\n",
        "df['date_added'] = pd.to_datetime(df['date_added'])\n",
        "\n",
        "df['month_added'] = df['date_added'].dt.month\n",
        "\n",
        "films_per_month = df.groupby('month_added').size() # date --5/1/24\n",
        "\n",
        "highest_month = films_per_month.idxmax()\n",
        "\n",
        "films_per_month.plot(kind='bar', color='skyblue')\n",
        "plt.title('Number of Films Released by Month')\n",
        "plt.xlabel('Month')\n",
        "plt.ylabel('Number of Films Released')\n",
        "plt.xticks(range(1, 13), ['Jan', 'Feb', 'Mar', 'Apr', 'May', 'Jun', 'Jul', 'Aug', 'Sep', 'Oct', 'Nov', 'Dec'])\n",
        "plt.xticks(rotation=45)\n",
        "plt.tight_layout()\n",
        "plt.show()\n",
        "print(f\"The month with the highest number of films released is: {highest_month}\")\n"
      ],
      "metadata": {
        "colab": {
          "base_uri": "https://localhost:8080/",
          "height": 504
        },
        "id": "of_X6pXVv9cj",
        "outputId": "5bd0951d-0298-49f1-cdc1-1a8c626b1eca"
      },
      "execution_count": null,
      "outputs": [
        {
          "output_type": "display_data",
          "data": {
            "text/plain": [
              "<Figure size 640x480 with 1 Axes>"
            ],
            "image/png": "[encoded data removed]"
          },
          "metadata": {}
        },
        {
          "output_type": "stream",
          "name": "stdout",
          "text": [
            "The month with the highest number of films released is: 10.0\n"
          ]
        }
      ]
    },
    {
      "cell_type": "code",
      "source": [],
      "metadata": {
        "id": "XA4rQNPPwUAJ"
      },
      "execution_count": null,
      "outputs": []
    },
    {
      "cell_type": "markdown",
      "source": [
        "# 11 a) Year where the 5th most highest adult movies got released:"
      ],
      "metadata": {
        "id": "gEcG39New4qr"
      }
    },
    {
      "cell_type": "code",
      "source": [
        "\n",
        "adult_movies_per_year = df[df['rating'] == 'TV-MA']['release_year'].value_counts()\n",
        "\n",
        "fifth_most_adult_year = adult_movies_per_year.index[4]\n",
        "\n",
        "print(f\"The year where the 5th most adult movies were released is: {fifth_most_adult_year}\")\n"
      ],
      "metadata": {
        "colab": {
          "base_uri": "https://localhost:8080/"
        },
        "id": "KjUkQOuZw6fb",
        "outputId": "7de423d1-4779-44a0-b007-e47095700138"
      },
      "execution_count": null,
      "outputs": [
        {
          "output_type": "stream",
          "name": "stdout",
          "text": [
            "The year where the 5th most adult movies were released is: 2015\n"
          ]
        }
      ]
    },
    {
      "cell_type": "code",
      "source": [],
      "metadata": {
        "id": "sf_9g5Qlw_KK"
      },
      "execution_count": null,
      "outputs": []
    },
    {
      "cell_type": "markdown",
      "source": [
        "# b) Actor who appeared most in general audience movies:"
      ],
      "metadata": {
        "id": "S9aaeHFmxIIP"
      }
    },
    {
      "cell_type": "code",
      "source": [
        "\n",
        "general_audience_movies = df[df['rating'] != 'TV-MA']\n",
        "\n",
        "actor_most_appeared = general_audience_movies['cast'].str.split(', ').explode().value_counts().idxmax()\n",
        "\n",
        "print(f\"The actor who appeared most in general audience movies is: {actor_most_appeared}\")\n"
      ],
      "metadata": {
        "colab": {
          "base_uri": "https://localhost:8080/"
        },
        "id": "8yl0NimZxJfx",
        "outputId": "6154f969-a887-43d3-c3e2-811f8da5f4a3"
      },
      "execution_count": null,
      "outputs": [
        {
          "output_type": "stream",
          "name": "stdout",
          "text": [
            "The actor who appeared most in general audience movies is: Shah Rukh Khan\n"
          ]
        }
      ]
    },
    {
      "cell_type": "code",
      "source": [],
      "metadata": {
        "id": "FSS2kUeYxOLV"
      },
      "execution_count": null,
      "outputs": []
    },
    {
      "cell_type": "markdown",
      "source": [
        "# c) Director who directed most parental guidance movies:"
      ],
      "metadata": {
        "id": "eufBFz8vxYTi"
      }
    },
    {
      "cell_type": "code",
      "source": [
        "\n",
        "parental_guidance_movies = df[df['rating'] == 'TV-PG']\n",
        "\n",
        "most_parental_guidance_director = parental_guidance_movies['director'].value_counts().idxmax()\n",
        "\n",
        "print(f\"The director who directed most parental guidance movies is: {most_parental_guidance_director}\")\n"
      ],
      "metadata": {
        "colab": {
          "base_uri": "https://localhost:8080/"
        },
        "id": "M29qWFnKxZlu",
        "outputId": "da81371b-990b-426d-bbb1-deb5a6912d47"
      },
      "execution_count": null,
      "outputs": [
        {
          "output_type": "stream",
          "name": "stdout",
          "text": [
            "The director who directed most parental guidance movies is: Edward Cotterill\n"
          ]
        }
      ]
    },
    {
      "cell_type": "code",
      "source": [],
      "metadata": {
        "id": "et9IEPQbxe5z"
      },
      "execution_count": null,
      "outputs": []
    },
    {
      "cell_type": "markdown",
      "source": [
        "# d) Country which released most adult movies:"
      ],
      "metadata": {
        "id": "N5jmj2JSxgXE"
      }
    },
    {
      "cell_type": "code",
      "source": [
        "\n",
        "adult_movies = df[df['rating'] == 'TV-MA']\n",
        "\n",
        "most_adult_movies_country = adult_movies['country'].value_counts().idxmax()\n",
        "\n",
        "print(f\"The country which released most adult movies is: {most_adult_movies_country}\")\n"
      ],
      "metadata": {
        "colab": {
          "base_uri": "https://localhost:8080/"
        },
        "id": "EDB4yB8txh6o",
        "outputId": "3540aa9e-1136-4b69-f157-2aaf2da59dcd"
      },
      "execution_count": null,
      "outputs": [
        {
          "output_type": "stream",
          "name": "stdout",
          "text": [
            "The country which released most adult movies is: United States\n"
          ]
        }
      ]
    },
    {
      "cell_type": "code",
      "source": [],
      "metadata": {
        "id": "N-lbqzrdxjTl"
      },
      "execution_count": null,
      "outputs": []
    },
    {
      "cell_type": "markdown",
      "source": [
        "# e) Plot a stacked bar graph yearly release of general movies vs adult movies year:"
      ],
      "metadata": {
        "id": "t1_mFBvRxmoi"
      }
    },
    {
      "cell_type": "code",
      "source": [
        "\n",
        "movies_per_year = df.groupby(['release_year', 'rating']).size().unstack().fillna(0)\n",
        "\n",
        "movies_per_year.plot(kind='bar', stacked=True)\n",
        "plt.title('Yearly Release of General Movies vs Adult Movies')\n",
        "plt.xlabel('Year')\n",
        "plt.ylabel('Number of Movies')\n",
        "plt.legend(title='Rating', loc='upper left')\n",
        "plt.tight_layout()\n",
        "plt.show()\n"
      ],
      "metadata": {
        "colab": {
          "base_uri": "https://localhost:8080/",
          "height": 487
        },
        "id": "cQLPjiEAxoPq",
        "outputId": "c0609fb1-938a-41a5-934a-931fc594a365"
      },
      "execution_count": null,
      "outputs": [
        {
          "output_type": "display_data",
          "data": {
            "text/plain": [
              "<Figure size 640x480 with 1 Axes>"
            ],
            "image/png": "[encoded data removed]"
          },
          "metadata": {}
        }
      ]
    },
    {
      "cell_type": "code",
      "source": [],
      "metadata": {
        "id": "6slz5fdcxr7I"
      },
      "execution_count": null,
      "outputs": []
    },
    {
      "cell_type": "markdown",
      "source": [
        "# 12)  Which director consistently released movies and his time span\n"
      ],
      "metadata": {
        "id": "E8pH0i9tyKYn"
      }
    },
    {
      "cell_type": "code",
      "source": [
        "\n",
        "director_time_span = df.groupby('director')['release_year'].agg(['min', 'max'])\n",
        "director_time_span['time_span'] = director_time_span['max'] - director_time_span['min']\n",
        "\n",
        "most_consistent_director = director_time_span['time_span'].idxmax()\n",
        "time_span = director_time_span.loc[most_consistent_director, 'time_span']\n",
        "\n",
        "print(f\"The director who consistently released movies is: {most_consistent_director}\")\n",
        "print(f\"The time span of consistent releases for this director is: {time_span} years\")\n"
      ],
      "metadata": {
        "colab": {
          "base_uri": "https://localhost:8080/"
        },
        "id": "Mv_U3BMPyL7a",
        "outputId": "48da48a6-b9a6-4086-c52c-1c82dd689cd7"
      },
      "execution_count": null,
      "outputs": [
        {
          "output_type": "stream",
          "name": "stdout",
          "text": [
            "The director who consistently released movies is: Orson Welles\n",
            "The time span of consistent releases for this director is: 72 years\n"
          ]
        }
      ]
    },
    {
      "cell_type": "code",
      "source": [],
      "metadata": {
        "id": "nn-9KOAHyPWH"
      },
      "execution_count": null,
      "outputs": []
    },
    {
      "cell_type": "markdown",
      "source": [
        "#   13)  Director and Actor which worked with most number of countries"
      ],
      "metadata": {
        "id": "pW6sXLtKyTu6"
      }
    },
    {
      "cell_type": "code",
      "source": [
        "\n",
        "director_countries = df.groupby('director')['country'].nunique()\n",
        "most_countries_director = director_countries.idxmax()\n",
        "director_countries_count = director_countries.loc[most_countries_director]\n",
        "\n",
        "print(f\"The director who worked with the most number of countries is: {most_countries_director}\")\n",
        "print(f\"Number of countries worked with: {director_countries_count}\")\n",
        "\n",
        "actor_countries = df['cast'].str.split(', ').explode().reset_index(drop=True)\n",
        "actor_countries = actor_countries[actor_countries != ''].map(lambda x: 1).groupby(df['cast'].str.split(', ').explode().reset_index(drop=True)).sum()\n",
        "most_countries_actor = actor_countries.idxmax()\n",
        "actor_countries_count = actor_countries.loc[most_countries_actor]\n",
        "\n",
        "print(f\"The actor who worked with the most number of countries is: {most_countries_actor}\")\n",
        "print(f\"Number of countries worked with: {actor_countries_count}\")\n"
      ],
      "metadata": {
        "colab": {
          "base_uri": "https://localhost:8080/"
        },
        "id": "rhJE94OmyU9O",
        "outputId": "5cfaa095-9904-43f2-8fa4-4d774f666308"
      },
      "execution_count": null,
      "outputs": [
        {
          "output_type": "stream",
          "name": "stdout",
          "text": [
            "The director who worked with the most number of countries is: Raúl Campos, Jan Suter\n",
            "Number of countries worked with: 4\n",
            "The actor who worked with the most number of countries is: Anupam Kher\n",
            "Number of countries worked with: 29\n"
          ]
        }
      ]
    },
    {
      "cell_type": "code",
      "source": [],
      "metadata": {
        "id": "HD3Ozhs2yguU"
      },
      "execution_count": null,
      "outputs": []
    }
  ]
}